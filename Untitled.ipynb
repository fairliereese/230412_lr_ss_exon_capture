{
 "cells": [
  {
   "cell_type": "code",
   "execution_count": 14,
   "id": "f924529a-dcd8-49cb-90ee-dfe66e505192",
   "metadata": {},
   "outputs": [],
   "source": [
    "import pandas as pd\n",
    "import seaborn as sns\n",
    "import matplotlib.pyplot as plt"
   ]
  },
  {
   "cell_type": "code",
   "execution_count": 3,
   "id": "a256d146-fb81-461a-b468-707076df0f94",
   "metadata": {},
   "outputs": [],
   "source": [
    "df = pd.read_csv('/Users/fairliereese/mortazavi_lab/data/230412_lr_ss_exon_capture/proc/demux_talon/talon.db_talon_read_annot.tsv', sep='\\t')"
   ]
  },
  {
   "cell_type": "code",
   "execution_count": 4,
   "id": "2e5f4f5a-5454-433b-9030-033e0295487f",
   "metadata": {},
   "outputs": [
    {
     "data": {
      "text/html": [
       "<div>\n",
       "<style scoped>\n",
       "    .dataframe tbody tr th:only-of-type {\n",
       "        vertical-align: middle;\n",
       "    }\n",
       "\n",
       "    .dataframe tbody tr th {\n",
       "        vertical-align: top;\n",
       "    }\n",
       "\n",
       "    .dataframe thead th {\n",
       "        text-align: right;\n",
       "    }\n",
       "</style>\n",
       "<table border=\"1\" class=\"dataframe\">\n",
       "  <thead>\n",
       "    <tr style=\"text-align: right;\">\n",
       "      <th></th>\n",
       "      <th>read_name</th>\n",
       "      <th>dataset</th>\n",
       "      <th>genome_build</th>\n",
       "      <th>chrom</th>\n",
       "      <th>read_start</th>\n",
       "      <th>read_end</th>\n",
       "      <th>strand</th>\n",
       "      <th>n_exons</th>\n",
       "      <th>read_length</th>\n",
       "      <th>gene_ID</th>\n",
       "      <th>...</th>\n",
       "      <th>annot_gene_name</th>\n",
       "      <th>annot_transcript_name</th>\n",
       "      <th>gene_novelty</th>\n",
       "      <th>transcript_novelty</th>\n",
       "      <th>ISM_subtype</th>\n",
       "      <th>fraction_As</th>\n",
       "      <th>custom_label</th>\n",
       "      <th>allelic_label</th>\n",
       "      <th>start_support</th>\n",
       "      <th>end_support</th>\n",
       "    </tr>\n",
       "  </thead>\n",
       "  <tbody>\n",
       "    <tr>\n",
       "      <th>0</th>\n",
       "      <td>15bf3ba7-6c2e-4e21-b7fd-2945c9c4b0de</td>\n",
       "      <td>CTGTAGCCATAGCGACTGGCGCGC-13H-1</td>\n",
       "      <td>mm10</td>\n",
       "      <td>chr7_GL456219_random</td>\n",
       "      <td>64573</td>\n",
       "      <td>64348</td>\n",
       "      <td>-</td>\n",
       "      <td>1</td>\n",
       "      <td>217</td>\n",
       "      <td>55537</td>\n",
       "      <td>...</td>\n",
       "      <td>lr_splitseqG000055537</td>\n",
       "      <td>lr_splitseqT000141863</td>\n",
       "      <td>Intergenic</td>\n",
       "      <td>Intergenic</td>\n",
       "      <td>None</td>\n",
       "      <td>None</td>\n",
       "      <td>None</td>\n",
       "      <td>None</td>\n",
       "      <td>None</td>\n",
       "      <td>None</td>\n",
       "    </tr>\n",
       "    <tr>\n",
       "      <th>1</th>\n",
       "      <td>a3c2e5d7-168e-4e31-81eb-8a5cfb9e088e</td>\n",
       "      <td>AGTCACTAAAGGACACCCGTTCTA-13H-1</td>\n",
       "      <td>mm10</td>\n",
       "      <td>chr1_GL456211_random</td>\n",
       "      <td>38732</td>\n",
       "      <td>38418</td>\n",
       "      <td>-</td>\n",
       "      <td>1</td>\n",
       "      <td>308</td>\n",
       "      <td>55538</td>\n",
       "      <td>...</td>\n",
       "      <td>lr_splitseqG000055538</td>\n",
       "      <td>lr_splitseqT000141864</td>\n",
       "      <td>Intergenic</td>\n",
       "      <td>Intergenic</td>\n",
       "      <td>None</td>\n",
       "      <td>None</td>\n",
       "      <td>None</td>\n",
       "      <td>None</td>\n",
       "      <td>None</td>\n",
       "      <td>None</td>\n",
       "    </tr>\n",
       "    <tr>\n",
       "      <th>2</th>\n",
       "      <td>6c366f8a-69d0-4382-8609-0653799d5130</td>\n",
       "      <td>GCCACATACGCTGATCACTCGTAA-13H-1</td>\n",
       "      <td>mm10</td>\n",
       "      <td>chr4_JH584294_random</td>\n",
       "      <td>8</td>\n",
       "      <td>386</td>\n",
       "      <td>+</td>\n",
       "      <td>1</td>\n",
       "      <td>375</td>\n",
       "      <td>55539</td>\n",
       "      <td>...</td>\n",
       "      <td>lr_splitseqG000055539</td>\n",
       "      <td>lr_splitseqT000141865</td>\n",
       "      <td>Intergenic</td>\n",
       "      <td>Intergenic</td>\n",
       "      <td>None</td>\n",
       "      <td>None</td>\n",
       "      <td>None</td>\n",
       "      <td>None</td>\n",
       "      <td>None</td>\n",
       "      <td>None</td>\n",
       "    </tr>\n",
       "    <tr>\n",
       "      <th>3</th>\n",
       "      <td>17cf4825-481a-4f78-a8ab-2b51c3d892ef</td>\n",
       "      <td>ACATTGGCACCACTGTCTATTTCA-13G-gc-1</td>\n",
       "      <td>mm10</td>\n",
       "      <td>chr5_JH584299_random</td>\n",
       "      <td>513468</td>\n",
       "      <td>505668</td>\n",
       "      <td>-</td>\n",
       "      <td>2</td>\n",
       "      <td>198</td>\n",
       "      <td>55540</td>\n",
       "      <td>...</td>\n",
       "      <td>lr_splitseqG000055540</td>\n",
       "      <td>lr_splitseqT000141866</td>\n",
       "      <td>Intergenic</td>\n",
       "      <td>Intergenic</td>\n",
       "      <td>None</td>\n",
       "      <td>None</td>\n",
       "      <td>None</td>\n",
       "      <td>None</td>\n",
       "      <td>None</td>\n",
       "      <td>None</td>\n",
       "    </tr>\n",
       "    <tr>\n",
       "      <th>4</th>\n",
       "      <td>ada27e36-f3e1-4761-ac55-9d91695c84b7</td>\n",
       "      <td>CGGATTGCAAGACGGATAAATATC-13H-1</td>\n",
       "      <td>mm10</td>\n",
       "      <td>chr4_GL456216_random</td>\n",
       "      <td>3883</td>\n",
       "      <td>3504</td>\n",
       "      <td>-</td>\n",
       "      <td>1</td>\n",
       "      <td>382</td>\n",
       "      <td>55541</td>\n",
       "      <td>...</td>\n",
       "      <td>lr_splitseqG000055541</td>\n",
       "      <td>lr_splitseqT000141867</td>\n",
       "      <td>Intergenic</td>\n",
       "      <td>Intergenic</td>\n",
       "      <td>None</td>\n",
       "      <td>None</td>\n",
       "      <td>None</td>\n",
       "      <td>None</td>\n",
       "      <td>None</td>\n",
       "      <td>None</td>\n",
       "    </tr>\n",
       "  </tbody>\n",
       "</table>\n",
       "<p>5 rows × 23 columns</p>\n",
       "</div>"
      ],
      "text/plain": [
       "                              read_name                            dataset  \\\n",
       "0  15bf3ba7-6c2e-4e21-b7fd-2945c9c4b0de     CTGTAGCCATAGCGACTGGCGCGC-13H-1   \n",
       "1  a3c2e5d7-168e-4e31-81eb-8a5cfb9e088e     AGTCACTAAAGGACACCCGTTCTA-13H-1   \n",
       "2  6c366f8a-69d0-4382-8609-0653799d5130     GCCACATACGCTGATCACTCGTAA-13H-1   \n",
       "3  17cf4825-481a-4f78-a8ab-2b51c3d892ef  ACATTGGCACCACTGTCTATTTCA-13G-gc-1   \n",
       "4  ada27e36-f3e1-4761-ac55-9d91695c84b7     CGGATTGCAAGACGGATAAATATC-13H-1   \n",
       "\n",
       "  genome_build                 chrom  read_start  read_end strand  n_exons  \\\n",
       "0         mm10  chr7_GL456219_random       64573     64348      -        1   \n",
       "1         mm10  chr1_GL456211_random       38732     38418      -        1   \n",
       "2         mm10  chr4_JH584294_random           8       386      +        1   \n",
       "3         mm10  chr5_JH584299_random      513468    505668      -        2   \n",
       "4         mm10  chr4_GL456216_random        3883      3504      -        1   \n",
       "\n",
       "   read_length  gene_ID  ...        annot_gene_name  annot_transcript_name  \\\n",
       "0          217    55537  ...  lr_splitseqG000055537  lr_splitseqT000141863   \n",
       "1          308    55538  ...  lr_splitseqG000055538  lr_splitseqT000141864   \n",
       "2          375    55539  ...  lr_splitseqG000055539  lr_splitseqT000141865   \n",
       "3          198    55540  ...  lr_splitseqG000055540  lr_splitseqT000141866   \n",
       "4          382    55541  ...  lr_splitseqG000055541  lr_splitseqT000141867   \n",
       "\n",
       "  gene_novelty transcript_novelty ISM_subtype fraction_As custom_label  \\\n",
       "0   Intergenic         Intergenic        None        None         None   \n",
       "1   Intergenic         Intergenic        None        None         None   \n",
       "2   Intergenic         Intergenic        None        None         None   \n",
       "3   Intergenic         Intergenic        None        None         None   \n",
       "4   Intergenic         Intergenic        None        None         None   \n",
       "\n",
       "  allelic_label start_support end_support  \n",
       "0          None          None        None  \n",
       "1          None          None        None  \n",
       "2          None          None        None  \n",
       "3          None          None        None  \n",
       "4          None          None        None  \n",
       "\n",
       "[5 rows x 23 columns]"
      ]
     },
     "execution_count": 4,
     "metadata": {},
     "output_type": "execute_result"
    }
   ],
   "source": [
    "df.head()"
   ]
  },
  {
   "cell_type": "code",
   "execution_count": 6,
   "id": "dde98b54-44a5-42b3-b059-76e4f95bb777",
   "metadata": {},
   "outputs": [
    {
     "data": {
      "text/plain": [
       "array(['13H-1', '13G-gc-1'], dtype=object)"
      ]
     },
     "execution_count": 6,
     "metadata": {},
     "output_type": "execute_result"
    }
   ],
   "source": [
    "df['sample'] = df.dataset.str.split('-', n=1, expand=True)[1]\n",
    "df['sample'].unique()"
   ]
  },
  {
   "cell_type": "code",
   "execution_count": 10,
   "id": "9108ee67-7494-4692-948e-c5410b447b8a",
   "metadata": {},
   "outputs": [],
   "source": [
    "def get_talon_nov_colors():\n",
    "    c_dict = {'Known': '#009E73',\n",
    "              'ISM': '#0072B2',\n",
    "              'NIC': '#D55E00',\n",
    "              'NNC': '#E69F00',\n",
    "              'Antisense': '#000000',\n",
    "              'Intergenic': '#CC79A7',\n",
    "              'Genomic': '#F0E442'}\n",
    "    order = ['Known', 'ISM', 'NIC', 'NNC', 'Antisense', 'Intergenic', 'Genomic']\n",
    "    \n",
    "    return c_dict, order"
   ]
  },
  {
   "cell_type": "code",
   "execution_count": 9,
   "id": "4839fed2-5345-40a5-b162-2699a1b98aa0",
   "metadata": {},
   "outputs": [],
   "source": [
    "def add_perc(ax, data, feature):\n",
    "    total = data[feature].sum()\n",
    "    ylim = ax.get_ylim()[1]\n",
    "    for p in ax.patches:\n",
    "        percentage = '{:.1f}%'.format(100 * p.get_height()/total)\n",
    "        x = p.get_x() + p.get_width() / 2 - 0.45\n",
    "        y = p.get_y() + p.get_height() + ylim*0.00625\n",
    "        ax.annotate(percentage, (x, y), size = 12)\n",
    "        \n",
    "def plot_read_novelty(df, opref, c_dict, order,\n",
    "                      ylim=None, title=None, \n",
    "                      datasets='all'):\n",
    "    sns.set_context(\"paper\", font_scale=1.6)\n",
    "    \n",
    "    temp = df.copy(deep=True)\n",
    "    \n",
    "    # filter on datasets\n",
    "    if datasets != 'all':\n",
    "        temp = temp.loc[temp.dataset.isin(datasets)]        \n",
    "    \n",
    "    # count number of reads per cat\n",
    "    temp = temp[['transcript_novelty', 'read_name']].groupby('transcript_novelty').count()\n",
    "    temp.reset_index(inplace=True)\n",
    "    temp.rename({'read_name':'counts'}, axis=1, inplace=True)\n",
    "    print(temp)\n",
    "    \n",
    "    # actual plotting\n",
    "    g = sns.catplot(data=temp, x='transcript_novelty',\n",
    "                y='counts', kind='bar', \n",
    "                palette=c_dict, order=order)\n",
    "    [plt.setp(ax.get_xticklabels(), rotation=90) for ax in g.axes.flat]\n",
    "    g.set_ylabels('Reads')\n",
    "    g.set_xlabels('Transcript novelty')\n",
    "    \n",
    "    # add percentage labels\n",
    "    ax = g.axes[0,0]\n",
    "    add_perc(ax, temp, 'counts')\n",
    "    \n",
    "    if ylim:\n",
    "        g.set(ylim=(0,ylim))\n",
    "    \n",
    "    # add title\n",
    "    if not title:\n",
    "        g.fig.suptitle('Reads per novelty category')\n",
    "    else:\n",
    "        g.fig.suptitle('{} reads per novelty category'.format(title))\n",
    "        \n",
    "    # save figure\n",
    "    fname = '{}_read_novelty'.format(opref)\n",
    "    g.savefig(fname+'.pdf', dpi=300)"
   ]
  },
  {
   "cell_type": "code",
   "execution_count": 11,
   "id": "8292ab1e-2246-4372-a41e-19112c7e034b",
   "metadata": {},
   "outputs": [],
   "source": [
    "c_dict, order = get_talon_nov_colors()"
   ]
  },
  {
   "cell_type": "code",
   "execution_count": 15,
   "id": "820b1497-ad0d-47ee-8fde-74f8feb3585d",
   "metadata": {},
   "outputs": [
    {
     "name": "stdout",
     "output_type": "stream",
     "text": [
      "  transcript_novelty  counts\n",
      "0          Antisense   42294\n",
      "1            Genomic  508234\n",
      "2                ISM   80944\n",
      "3         Intergenic   32981\n",
      "4              Known   48425\n",
      "5                NIC    2430\n",
      "6                NNC    6383\n"
     ]
    },
    {
     "data": {
      "image/png": "[encoded data removed]",
      "text/plain": [
       "<Figure size 360x360 with 1 Axes>"
      ]
     },
     "metadata": {
      "needs_background": "light"
     },
     "output_type": "display_data"
    }
   ],
   "source": [
    "# 13 H\n",
    "opref = 'figures/13h'\n",
    "datasets = df.loc[df['sample'].str.contains('H'), 'dataset'].tolist()\n",
    "plot_read_novelty(df, opref, c_dict, order,\n",
    "                  ylim=None, title=None, \n",
    "                  datasets=datasets)"
   ]
  },
  {
   "cell_type": "code",
   "execution_count": 16,
   "id": "956a02bb-daf0-4c28-8f2f-64e636728b5e",
   "metadata": {},
   "outputs": [
    {
     "name": "stdout",
     "output_type": "stream",
     "text": [
      "  transcript_novelty  counts\n",
      "0          Antisense   23043\n",
      "1            Genomic  197536\n",
      "2                ISM  321139\n",
      "3         Intergenic    5021\n",
      "4              Known   50255\n",
      "5                NIC   11292\n",
      "6                NNC   26750\n"
     ]
    },
    {
     "data": {
      "image/png": "[encoded data removed]",
      "text/plain": [
       "<Figure size 360x360 with 1 Axes>"
      ]
     },
     "metadata": {
      "needs_background": "light"
     },
     "output_type": "display_data"
    }
   ],
   "source": [
    "# 13 GC\n",
    "opref = 'figures/13gc'\n",
    "datasets = df.loc[df['sample'].str.contains('gc'), 'dataset'].tolist()\n",
    "plot_read_novelty(df, opref, c_dict, order,\n",
    "                  ylim=None, title=None, \n",
    "                  datasets=datasets)"
   ]
  },
  {
   "cell_type": "code",
   "execution_count": null,
   "id": "34818c76-4c50-470f-be8a-b9a5967696f4",
   "metadata": {},
   "outputs": [],
   "source": []
  }
 ],
 "metadata": {
  "kernelspec": {
   "display_name": "Python 3",
   "language": "python",
   "name": "python3"
  },
  "language_info": {
   "codemirror_mode": {
    "name": "ipython",
    "version": 3
   },
   "file_extension": ".py",
   "mimetype": "text/x-python",
   "name": "python",
   "nbconvert_exporter": "python",
   "pygments_lexer": "ipython3",
   "version": "3.7.4"
  }
 },
 "nbformat": 4,
 "nbformat_minor": 5
}
